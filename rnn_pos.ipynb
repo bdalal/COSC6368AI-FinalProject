{
 "cells": [
  {
   "cell_type": "code",
   "execution_count": 1,
   "metadata": {},
   "outputs": [
    {
     "name": "stderr",
     "output_type": "stream",
     "text": [
      "Using TensorFlow backend.\n"
     ]
    }
   ],
   "source": [
    "from glove import Glove\n",
    "from keras import Input, Model\n",
    "from keras.callbacks import EarlyStopping\n",
    "from keras.layers import Embedding, Bidirectional, LSTM, Dense, Activation, Dropout\n",
    "from keras.optimizers import Adam\n",
    "from keras.preprocessing import sequence\n",
    "from keras_preprocessing.text import Tokenizer\n",
    "from string import punctuation\n",
    "from sklearn.preprocessing import LabelEncoder\n",
    "import numpy as np\n",
    "import pandas as pd"
   ]
  },
  {
   "cell_type": "code",
   "execution_count": 2,
   "metadata": {},
   "outputs": [],
   "source": [
    "glove = Glove()\n",
    "glove = glove.load(\"/home/binoy/OneDrive/UH/COSC 6368 - AI/FinalProject/pos_glove_100d.model\")"
   ]
  },
  {
   "cell_type": "code",
   "execution_count": 3,
   "metadata": {},
   "outputs": [],
   "source": [
    "embed_dim = glove.word_vectors.shape[1]\n",
    "vocab_len = len(glove.dictionary.keys()) + 1"
   ]
  },
  {
   "cell_type": "code",
   "execution_count": 4,
   "metadata": {},
   "outputs": [],
   "source": [
    "emb_matrix = np.zeros((vocab_len, embed_dim))"
   ]
  },
  {
   "cell_type": "code",
   "execution_count": 5,
   "metadata": {},
   "outputs": [
    {
     "name": "stdout",
     "output_type": "stream",
     "text": [
      "WARNING:tensorflow:From /home/binoy/.local/lib/python3.6/site-packages/tensorflow/python/framework/op_def_library.py:263: colocate_with (from tensorflow.python.framework.ops) is deprecated and will be removed in a future version.\n",
      "Instructions for updating:\n",
      "Colocations handled automatically by placer.\n"
     ]
    }
   ],
   "source": [
    "embedding_layer = Embedding(input_dim=vocab_len, output_dim=embed_dim, trainable=False)\n",
    "embedding_layer.build((None,))\n",
    "embedding_layer.set_weights([emb_matrix])"
   ]
  },
  {
   "cell_type": "code",
   "execution_count": 6,
   "metadata": {},
   "outputs": [],
   "source": [
    "def RNN(max_words, max_len):\n",
    "    inputs = Input(name='inputs', shape=[max_len])\n",
    "    layer = embedding_layer(inputs)\n",
    "    layer = Bidirectional(LSTM(128, return_sequences=True))(layer)\n",
    "    layer = LSTM(128)(layer)\n",
    "    layer = Dense(64, name='FC1')(layer)\n",
    "    layer = Activation('relu')(layer)\n",
    "    layer = Dense(1, name='out_layer')(layer)\n",
    "    layer = Activation('sigmoid')(layer)\n",
    "    model = Model(inputs=inputs, outputs=layer)\n",
    "    print(model.summary())\n",
    "    model.compile(loss='binary_crossentropy', optimizer=Adam(), metrics=['accuracy'])\n",
    "    return model"
   ]
  },
  {
   "cell_type": "code",
   "execution_count": 7,
   "metadata": {},
   "outputs": [],
   "source": [
    "data = pd.read_pickle('scaled_features.pkl')"
   ]
  },
  {
   "cell_type": "code",
   "execution_count": 8,
   "metadata": {},
   "outputs": [],
   "source": [
    "pos = data.POS.values\n",
    "pos = [tags.translate(str.maketrans('', '', punctuation)).strip() for tags in pos]"
   ]
  },
  {
   "cell_type": "code",
   "execution_count": 9,
   "metadata": {},
   "outputs": [],
   "source": [
    "max_words = 300\n",
    "tok = Tokenizer(num_words=max_words, filters='')\n",
    "tok.fit_on_texts(pos)"
   ]
  },
  {
   "cell_type": "code",
   "execution_count": 10,
   "metadata": {},
   "outputs": [],
   "source": [
    "max_len=250\n",
    "sequences = tok.texts_to_sequences(pos)\n",
    "sequences_matrix = sequence.pad_sequences(sequences, maxlen=max_len)"
   ]
  },
  {
   "cell_type": "code",
   "execution_count": 11,
   "metadata": {},
   "outputs": [],
   "source": [
    "gender = data.Gender"
   ]
  },
  {
   "cell_type": "code",
   "execution_count": 12,
   "metadata": {},
   "outputs": [],
   "source": [
    "le = LabelEncoder()\n",
    "gender = le.fit_transform(gender)\n",
    "gender = gender.reshape(-1, 1)"
   ]
  },
  {
   "cell_type": "code",
   "execution_count": 13,
   "metadata": {},
   "outputs": [
    {
     "name": "stdout",
     "output_type": "stream",
     "text": [
      "_________________________________________________________________\n",
      "Layer (type)                 Output Shape              Param #   \n",
      "=================================================================\n",
      "inputs (InputLayer)          (None, 250)               0         \n",
      "_________________________________________________________________\n",
      "embedding_1 (Embedding)      (None, 250, 100)          4200      \n",
      "_________________________________________________________________\n",
      "bidirectional_1 (Bidirection (None, 250, 256)          234496    \n",
      "_________________________________________________________________\n",
      "lstm_2 (LSTM)                (None, 128)               197120    \n",
      "_________________________________________________________________\n",
      "FC1 (Dense)                  (None, 64)                8256      \n",
      "_________________________________________________________________\n",
      "activation_1 (Activation)    (None, 64)                0         \n",
      "_________________________________________________________________\n",
      "out_layer (Dense)            (None, 1)                 65        \n",
      "_________________________________________________________________\n",
      "activation_2 (Activation)    (None, 1)                 0         \n",
      "=================================================================\n",
      "Total params: 444,137\n",
      "Trainable params: 439,937\n",
      "Non-trainable params: 4,200\n",
      "_________________________________________________________________\n",
      "None\n"
     ]
    }
   ],
   "source": [
    "model = RNN(max_words, max_len)"
   ]
  },
  {
   "cell_type": "code",
   "execution_count": null,
   "metadata": {},
   "outputs": [
    {
     "name": "stdout",
     "output_type": "stream",
     "text": [
      "WARNING:tensorflow:From /home/binoy/.local/lib/python3.6/site-packages/tensorflow/python/ops/math_ops.py:3066: to_int32 (from tensorflow.python.ops.math_ops) is deprecated and will be removed in a future version.\n",
      "Instructions for updating:\n",
      "Use tf.cast instead.\n",
      "Train on 2890 samples, validate on 322 samples\n",
      "Epoch 1/10\n",
      "2890/2890 [==============================] - 40s 14ms/step - loss: 0.6931 - acc: 0.5173 - val_loss: 0.6931 - val_acc: 0.5093\n",
      "Epoch 2/10\n",
      "2890/2890 [==============================] - 39s 14ms/step - loss: 0.6929 - acc: 0.5215 - val_loss: 0.6930 - val_acc: 0.5093\n",
      "Epoch 3/10\n",
      "2890/2890 [==============================] - 38s 13ms/step - loss: 0.6927 - acc: 0.5215 - val_loss: 0.6930 - val_acc: 0.5093\n",
      "Epoch 4/10\n",
      "2890/2890 [==============================] - 40s 14ms/step - loss: 0.6927 - acc: 0.5215 - val_loss: 0.6930 - val_acc: 0.5093\n",
      "Epoch 5/10\n",
      "2890/2890 [==============================] - 38s 13ms/step - loss: 0.6925 - acc: 0.5215 - val_loss: 0.6930 - val_acc: 0.5093\n",
      "Epoch 6/10\n",
      "2890/2890 [==============================] - 39s 13ms/step - loss: 0.6925 - acc: 0.5215 - val_loss: 0.6930 - val_acc: 0.5093\n",
      "Epoch 7/10\n",
      "1536/2890 [==============>...............] - ETA: 17s - loss: 0.6929 - acc: 0.5104"
     ]
    }
   ],
   "source": [
    "model.fit(sequences_matrix, gender, batch_size=128, epochs=10,\n",
    "                      validation_split=0.1)"
   ]
  },
  {
   "cell_type": "code",
   "execution_count": null,
   "metadata": {},
   "outputs": [],
   "source": [
    "model.evaluate(sequences_matrix, gender)"
   ]
  },
  {
   "cell_type": "code",
   "execution_count": null,
   "metadata": {},
   "outputs": [],
   "source": []
  }
 ],
 "metadata": {
  "kernelspec": {
   "display_name": "Python 3",
   "language": "python",
   "name": "python3"
  },
  "language_info": {
   "codemirror_mode": {
    "name": "ipython",
    "version": 3
   },
   "file_extension": ".py",
   "mimetype": "text/x-python",
   "name": "python",
   "nbconvert_exporter": "python",
   "pygments_lexer": "ipython3",
   "version": "3.6.8"
  }
 },
 "nbformat": 4,
 "nbformat_minor": 2
}
